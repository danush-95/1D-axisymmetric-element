{
  "nbformat": 4,
  "nbformat_minor": 0,
  "metadata": {
    "colab": {
      "name": "Data_preprocessing.ipynb",
      "provenance": [],
      "mount_file_id": "1AcQ1ol-38OSjYqdHXZfu4sNwDHs_9CK_",
      "authorship_tag": "ABX9TyP0MVQyULVs58CcTNqOLu/S",
      "include_colab_link": true
    },
    "kernelspec": {
      "name": "python3",
      "display_name": "Python 3"
    },
    "language_info": {
      "name": "python"
    }
  },
  "cells": [
    {
      "cell_type": "markdown",
      "metadata": {
        "id": "view-in-github",
        "colab_type": "text"
      },
      "source": [
        "<a href=\"https://colab.research.google.com/github/danush-95/1D-axisymmetric-element/blob/master/Data_preprocessing.ipynb\" target=\"_parent\"><img src=\"https://colab.research.google.com/assets/colab-badge.svg\" alt=\"Open In Colab\"/></a>"
      ]
    },
    {
      "cell_type": "markdown",
      "metadata": {
        "id": "eg2HSlW0NMUX"
      },
      "source": [
        "\n",
        "\n",
        "\n",
        "## **Import the necessary libraries**\n",
        "\n",
        "\n"
      ]
    },
    {
      "cell_type": "code",
      "metadata": {
        "id": "QyhHz_MZMdEx"
      },
      "source": [
        "import numpy as np\n",
        "import pandas as pd\n",
        "import matplotlib.pyplot as plt\n",
        "import scipy\n",
        "from sklearn.impute import SimpleImputer\n",
        "from sklearn.compose import ColumnTransformer\n",
        "from sklearn.preprocessing import OneHotEncoder, LabelEncoder\n",
        "from sklearn.model_selection import train_test_split\n",
        "from sklearn.preprocessing import StandardScaler\n"
      ],
      "execution_count": 51,
      "outputs": []
    },
    {
      "cell_type": "markdown",
      "metadata": {
        "id": "jg8Y6uQYNcnM"
      },
      "source": [
        "## Read the dataset"
      ]
    },
    {
      "cell_type": "code",
      "metadata": {
        "colab": {
          "base_uri": "https://localhost:8080/"
        },
        "id": "VHNZYufTNhP4",
        "outputId": "c1aeec57-00c0-4595-9ae8-85ec924e3698"
      },
      "source": [
        "df = pd.read_csv('/content/drive/MyDrive/Machine Learning A-Z (Codes and Datasets)/Part 1 - Data Preprocessing/Section 2 -------------------- Part 1 - Data Preprocessing --------------------/Python/Data.csv')\n",
        "X_features = df.iloc[:,:-1].values\n",
        "Y_features = (df.iloc[:,-1].values)\n",
        "\n",
        "print(X_features.shape)\n",
        "print(Y_features)"
      ],
      "execution_count": 52,
      "outputs": [
        {
          "output_type": "stream",
          "text": [
            "(10, 3)\n",
            "['No' 'Yes' 'No' 'No' 'Yes' 'Yes' 'No' 'Yes' 'No' 'Yes']\n"
          ],
          "name": "stdout"
        }
      ]
    },
    {
      "cell_type": "markdown",
      "metadata": {
        "id": "RTje0vI7Ol6S"
      },
      "source": [
        "## **Account for missing data**"
      ]
    },
    {
      "cell_type": "code",
      "metadata": {
        "colab": {
          "base_uri": "https://localhost:8080/"
        },
        "id": "EmHo4nNLOrKu",
        "outputId": "2a009e67-4c93-44e2-fef3-646cc8eec80e"
      },
      "source": [
        "imputer = SimpleImputer(missing_values=np.nan, strategy='mean')\n",
        "X_features[:, 1:] = imputer.fit_transform(X_features[:, 1:])\n",
        "print(X_features)"
      ],
      "execution_count": 53,
      "outputs": [
        {
          "output_type": "stream",
          "text": [
            "[['France' 44.0 72000.0]\n",
            " ['Spain' 27.0 48000.0]\n",
            " ['Germany' 30.0 54000.0]\n",
            " ['Spain' 38.0 61000.0]\n",
            " ['Germany' 40.0 63777.77777777778]\n",
            " ['France' 35.0 58000.0]\n",
            " ['Spain' 38.77777777777778 52000.0]\n",
            " ['France' 48.0 79000.0]\n",
            " ['Germany' 50.0 83000.0]\n",
            " ['France' 37.0 67000.0]]\n"
          ],
          "name": "stdout"
        }
      ]
    },
    {
      "cell_type": "markdown",
      "metadata": {
        "id": "1Mp2oCYyZ0xT"
      },
      "source": [
        "**Encode the dataset**"
      ]
    },
    {
      "cell_type": "code",
      "metadata": {
        "id": "ZSlpovhaZ0a9"
      },
      "source": [
        "ct = ColumnTransformer(transformers=[('encoder', OneHotEncoder(), [0])], remainder='passthrough')\n",
        "X_features = ct.fit_transform(X_features)\n",
        "#print(X_features)\n",
        "label_encoding = LabelEncoder()\n",
        "Y_features = label_encoding.fit_transform(Y_features)\n",
        "#print(Y_features)"
      ],
      "execution_count": 54,
      "outputs": []
    },
    {
      "cell_type": "markdown",
      "metadata": {
        "id": "TzViaF-0dWc_"
      },
      "source": [
        "**Split the dataset**"
      ]
    },
    {
      "cell_type": "code",
      "metadata": {
        "colab": {
          "base_uri": "https://localhost:8080/"
        },
        "id": "17PkQsYodaVn",
        "outputId": "563d498a-cd16-4f59-f484-adbe45590b2a"
      },
      "source": [
        "x_train, x_test, y_train, y_test = train_test_split(X_features,Y_features, test_size=0.2, random_state=42, shuffle=True)\n",
        "\n",
        "print(\"X_train_set: \", x_train)\n",
        "print(\"Y_tain_set : \", y_train)\n",
        "print(\"X_test_set : \", x_test)\n",
        "print(\"Y_test_Set : \", y_test)"
      ],
      "execution_count": 55,
      "outputs": [
        {
          "output_type": "stream",
          "text": [
            "X_train_set:  [[1.0 0.0 0.0 35.0 58000.0]\n",
            " [1.0 0.0 0.0 44.0 72000.0]\n",
            " [1.0 0.0 0.0 48.0 79000.0]\n",
            " [0.0 1.0 0.0 30.0 54000.0]\n",
            " [1.0 0.0 0.0 37.0 67000.0]\n",
            " [0.0 1.0 0.0 40.0 63777.77777777778]\n",
            " [0.0 0.0 1.0 38.0 61000.0]\n",
            " [0.0 0.0 1.0 38.77777777777778 52000.0]]\n",
            "Y_tain_set :  [1 0 1 0 1 1 0 0]\n",
            "X_test_set :  [[0.0 1.0 0.0 50.0 83000.0]\n",
            " [0.0 0.0 1.0 27.0 48000.0]]\n",
            "Y_test_Set :  [0 1]\n"
          ],
          "name": "stdout"
        }
      ]
    },
    {
      "cell_type": "markdown",
      "metadata": {
        "id": "-O-Si0NwfLSE"
      },
      "source": [
        "**Feature scaling**"
      ]
    },
    {
      "cell_type": "code",
      "metadata": {
        "id": "-wHfoHnIfP1f"
      },
      "source": [
        "st = StandardScaler()\n",
        "x_train[:, 3:] = st.fit_transform(x_train[:, 3:])\n",
        "x_test[:, 3:] = st.transform(x_test[:, 3:])\n"
      ],
      "execution_count": 57,
      "outputs": []
    }
  ]
}